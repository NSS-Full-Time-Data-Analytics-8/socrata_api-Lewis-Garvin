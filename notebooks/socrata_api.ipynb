{
 "cells": [
  {
   "cell_type": "markdown",
   "id": "a010cc3f",
   "metadata": {},
   "source": [
    "# Socrata API"
   ]
  },
  {
   "cell_type": "markdown",
   "id": "07422cdb",
   "metadata": {},
   "source": [
    "For this project you will use `requests` package and the SODA API to access data through https://data.nashville.gov/. We'll start out with something familiar, the [Top 500 Monthly Searches](https://data.nashville.gov/Public-Services/Nashville-gov-Top-500-Monthly-Searches/fuaa-r5cm), then pull in different datasets further on. You will make different API requests for each individual question.\n",
    "\n",
    "Each dataset has its own api endpoint. You can find the endpoint for a dataset by clicking on the `API` button in the top right of the dataset screen, then copying the `API Endpoint`. The default output is `JSON`, which you can leave unchanged:\n",
    "\n",
    "![api_endpoint](../assets/api_endpoint.png)\n",
    "\n",
    "Each API is different, so it is very important to read the documentation for each API to know how to use it properly. The documentation for the SODA API is [here](https://dev.socrata.com/consumers/getting-started.html). It is **HIGHLY RECOMMENDED** that you read the documentation before making any requests, then do deeper dives into specific use cases when questions require. NOTE that the examples in the documentation don't use the `requests` package. You will need to look at the examples and figure out which things go in the `url` and which things go in the `params`.\n"
   ]
  },
  {
   "cell_type": "code",
   "execution_count": null,
   "id": "bfb6f971",
   "metadata": {},
   "outputs": [],
   "source": [
    "import json\n",
    "import requests\n",
    "import pandas as pd\n",
    "import matplotlib.pyplot as plt\n",
    "import seaborn as sns"
   ]
  },
  {
   "cell_type": "code",
   "execution_count": null,
   "id": "c8916656",
   "metadata": {},
   "outputs": [],
   "source": [
    "#with open('../../../../../tech/api_keys.json') as file: credentials = json.load(file)"
   ]
  },
  {
   "cell_type": "code",
   "execution_count": null,
   "id": "76035eb7",
   "metadata": {},
   "outputs": [],
   "source": [
    "#credentials.keys()"
   ]
  },
  {
   "cell_type": "code",
   "execution_count": null,
   "id": "2236bf7a",
   "metadata": {},
   "outputs": [],
   "source": [
    "#api_key = credentials['api key']"
   ]
  },
  {
   "cell_type": "markdown",
   "id": "b256713b",
   "metadata": {},
   "source": [
    "### Questions  \n"
   ]
  },
  {
   "cell_type": "markdown",
   "id": "3c24845d",
   "metadata": {},
   "source": [
    "**1. Make an API request that returns the months where \"fire\" was searched in 2016. Which month had the most searches?**"
   ]
  },
  {
   "cell_type": "code",
   "execution_count": null,
   "id": "ef513c29",
   "metadata": {},
   "outputs": [],
   "source": [
    "endpoint = 'https://data.nashville.gov/resource/fuaa-r5cm.json'"
   ]
  },
  {
   "cell_type": "code",
   "execution_count": null,
   "id": "2d569185",
   "metadata": {},
   "outputs": [],
   "source": [
    "params = {\n",
    "    'year': 2016,\n",
    "    'query_text': 'fire'\n",
    "}"
   ]
  },
  {
   "cell_type": "code",
   "execution_count": null,
   "id": "261abb4a",
   "metadata": {},
   "outputs": [],
   "source": [
    "response = requests.get(endpoint, params = params)\n",
    "\n",
    "if response.status_code != 200:\n",
    "    print(response.status_code)\n",
    "    assert response.status_code == 200\n",
    "    \n",
    "res = response.json()"
   ]
  },
  {
   "cell_type": "code",
   "execution_count": null,
   "id": "a32e8214",
   "metadata": {
    "scrolled": false
   },
   "outputs": [],
   "source": [
    "fire_2016_queries_df = pd.DataFrame(res)"
   ]
  },
  {
   "cell_type": "code",
   "execution_count": null,
   "id": "18ba3b86",
   "metadata": {},
   "outputs": [],
   "source": [
    "most_searches = fire_2016_queries_df.sort_values(by='query_count', ascending=False).iloc[0]\n",
    "\n",
    "print(most_searches.month_name, ' had ', most_searches.query_count, ' searches for fire in 2016, the most of any month.')"
   ]
  },
  {
   "cell_type": "markdown",
   "id": "af09f910",
   "metadata": {},
   "source": [
    "**2. Make an API request that returns all the times a query was run more than 100 times in a month. How many times did this occur?**  "
   ]
  },
  {
   "cell_type": "code",
   "execution_count": null,
   "id": "e8cfd83d",
   "metadata": {},
   "outputs": [],
   "source": [
    "params = {\n",
    "    '$where': 'query_count > 100',\n",
    "    '$limit': 5000\n",
    "}"
   ]
  },
  {
   "cell_type": "code",
   "execution_count": null,
   "id": "376eb11a",
   "metadata": {},
   "outputs": [],
   "source": [
    "response = requests.get(endpoint, params = params)\n",
    "\n",
    "if response.status_code != 200:\n",
    "    print(response.status_code)\n",
    "    assert response.status_code == 200\n",
    "    \n",
    "res = response.json()"
   ]
  },
  {
   "cell_type": "code",
   "execution_count": null,
   "id": "48ede465",
   "metadata": {},
   "outputs": [],
   "source": [
    "print(len(res),' queries have been run more than 100 times in a month.')"
   ]
  },
  {
   "cell_type": "markdown",
   "id": "16431afe",
   "metadata": {},
   "source": [
    "**3. Make another API request that returns all the times \"codes\" was searched more than 100 times in a month. How many times did this occur?** "
   ]
  },
  {
   "cell_type": "code",
   "execution_count": null,
   "id": "812c16f4",
   "metadata": {},
   "outputs": [],
   "source": [
    "params = {\n",
    "    '$where': 'query_count > 100',\n",
    "    'query_text': 'codes',\n",
    "    '$limit': 5000\n",
    "}"
   ]
  },
  {
   "cell_type": "code",
   "execution_count": null,
   "id": "66c55c35",
   "metadata": {},
   "outputs": [],
   "source": [
    "response = requests.get(endpoint, params = params)\n",
    "\n",
    "if response.status_code != 200:\n",
    "    print(response.status_code)\n",
    "    assert response.status_code == 200\n",
    "    \n",
    "res = response.json()"
   ]
  },
  {
   "cell_type": "code",
   "execution_count": null,
   "id": "8be4dd49",
   "metadata": {},
   "outputs": [],
   "source": [
    "print('There have been ', len(res), ' months in which codes was searched > 100 times.')"
   ]
  },
  {
   "cell_type": "markdown",
   "id": "c65bb7b3",
   "metadata": {},
   "source": [
    "**4. Make an API request that returns the entire Top 500 Monthly Searches dataset. Make a chart that shows the number of times \"maps\" was searched in a month across the entire time frame.**"
   ]
  },
  {
   "cell_type": "code",
   "execution_count": null,
   "id": "82580b7f",
   "metadata": {},
   "outputs": [],
   "source": [
    "params = {\n",
    "    '$limit': 50000\n",
    "}"
   ]
  },
  {
   "cell_type": "code",
   "execution_count": null,
   "id": "01b74c4b",
   "metadata": {},
   "outputs": [],
   "source": [
    "response = requests.get(endpoint, params = params)\n",
    "\n",
    "if response.status_code != 200:\n",
    "    print(response.status_code)\n",
    "    assert response.status_code == 200\n",
    "    \n",
    "res = response.json()"
   ]
  },
  {
   "cell_type": "code",
   "execution_count": null,
   "id": "f391975c",
   "metadata": {},
   "outputs": [],
   "source": [
    "print(len(res),' total rows in Top 500 Monthly Searches dataset')"
   ]
  },
  {
   "cell_type": "code",
   "execution_count": null,
   "id": "5aef71dd",
   "metadata": {
    "scrolled": true
   },
   "outputs": [],
   "source": [
    "complete_dataset_df = pd.DataFrame(res)\n",
    "complete_dataset_df.head()"
   ]
  },
  {
   "cell_type": "markdown",
   "id": "3344381f",
   "metadata": {},
   "source": [
    "### MAPS subset"
   ]
  },
  {
   "cell_type": "code",
   "execution_count": null,
   "id": "8dea632f",
   "metadata": {},
   "outputs": [],
   "source": [
    "maps_queries_df = complete_dataset_df.loc[complete_dataset_df.query_text.str.upper() == 'MAPS']"
   ]
  },
  {
   "cell_type": "code",
   "execution_count": null,
   "id": "ec344207",
   "metadata": {
    "scrolled": true
   },
   "outputs": [],
   "source": [
    "print(maps_queries_df.query_text.value_counts())\n",
    "maps_queries_df.head()"
   ]
  },
  {
   "cell_type": "markdown",
   "id": "45172a16",
   "metadata": {},
   "source": [
    "### month_year_date"
   ]
  },
  {
   "cell_type": "code",
   "execution_count": null,
   "id": "61dd7d1f",
   "metadata": {
    "scrolled": true
   },
   "outputs": [],
   "source": [
    "month_name_series = maps_queries_df['month_name'] + ' ' + maps_queries_df['year']"
   ]
  },
  {
   "cell_type": "code",
   "execution_count": null,
   "id": "4fc653f7",
   "metadata": {},
   "outputs": [],
   "source": [
    "maps_queries_df['month_year_date'] = pd.to_datetime(month_name_series)\n",
    "maps_queries_df.head()"
   ]
  },
  {
   "cell_type": "markdown",
   "id": "a9817c71",
   "metadata": {},
   "source": [
    "### query_count to int"
   ]
  },
  {
   "cell_type": "code",
   "execution_count": null,
   "id": "b2229fde",
   "metadata": {
    "scrolled": true
   },
   "outputs": [],
   "source": [
    "maps_queries_df = maps_queries_df.astype({'query_count':int})\n",
    "maps_queries_df.dtypes"
   ]
  },
  {
   "cell_type": "markdown",
   "id": "83f4c954",
   "metadata": {},
   "source": [
    "### Columns Subset"
   ]
  },
  {
   "cell_type": "code",
   "execution_count": null,
   "id": "70aee5f5",
   "metadata": {},
   "outputs": [],
   "source": [
    "maps_queries_df = maps_queries_df.loc[:,['month_year_date', 'query_count']]\n",
    "maps_queries_df.head()"
   ]
  },
  {
   "cell_type": "markdown",
   "id": "c534b4b8",
   "metadata": {},
   "source": [
    "### Group by "
   ]
  },
  {
   "cell_type": "code",
   "execution_count": null,
   "id": "915eaedb",
   "metadata": {},
   "outputs": [],
   "source": [
    "maps_queries_df = maps_queries_df.groupby(['month_year_date']).agg('sum')\n",
    "maps_queries_df = maps_queries_df.sort_values(by='month_year_date')\n",
    "maps_queries_df = maps_queries_df.reset_index()\n",
    "maps_queries_df.head()"
   ]
  },
  {
   "cell_type": "code",
   "execution_count": null,
   "id": "9f6b1da7",
   "metadata": {},
   "outputs": [],
   "source": [
    "maps_queries_df.plot('month_year_date',\n",
    "                     'query_count',\n",
    "                     figsize=(12,6),\n",
    "                     legend=None)\n",
    "\n",
    "plt.title('\"Maps\" Queries per Month', fontsize=20)\n",
    "plt.ylabel('Number of Queries', fontsize=16)\n",
    "plt.xlabel('')\n",
    "plt.xticks(rotation='horizontal', fontsize =14, ha='center')\n",
    "plt.yticks(fontsize=14)\n",
    "#plt.grid()\n",
    ";"
   ]
  },
  {
   "cell_type": "markdown",
   "id": "9976adea",
   "metadata": {},
   "source": [
    "### Stretch Questions"
   ]
  },
  {
   "cell_type": "markdown",
   "id": "0c3ad38e",
   "metadata": {},
   "source": [
    "**5. Make an API request to pull back all the data from [hubNashville (311) Service Requests](https://data.nashville.gov/Public-Services/hubNashville-311-Service-Requests/7qhx-rexh) (check to see how many rows you can return in a single request). Compare it to the Top 500 Monthly Searches data set. What do you observe? (This is open-ended, there isn't a specific answer for this one)**"
   ]
  },
  {
   "cell_type": "code",
   "execution_count": null,
   "id": "fc6d5e6f",
   "metadata": {},
   "outputs": [],
   "source": [
    "endpoint = 'https://data.nashville.gov/resource/7qhx-rexh.json'"
   ]
  },
  {
   "cell_type": "code",
   "execution_count": null,
   "id": "1abca683",
   "metadata": {},
   "outputs": [],
   "source": [
    "params = {\n",
    "#    '$limit': 2000000\n",
    "}"
   ]
  },
  {
   "cell_type": "code",
   "execution_count": null,
   "id": "a6434832",
   "metadata": {},
   "outputs": [],
   "source": [
    "response = requests.get(endpoint, params = params)\n",
    "\n",
    "if response.status_code != 200:\n",
    "    print(response.status_code)\n",
    "    assert response.status_code == 200\n",
    "    \n",
    "res_hub_nash = response.json()"
   ]
  },
  {
   "cell_type": "code",
   "execution_count": null,
   "id": "34f8f340",
   "metadata": {},
   "outputs": [],
   "source": [
    "len(res_hub_nash)"
   ]
  },
  {
   "cell_type": "code",
   "execution_count": null,
   "id": "0c5d808d",
   "metadata": {},
   "outputs": [],
   "source": [
    "print(len(res_hub_nash), ' rows are in the hubNashville (311) Service Requests dataset. ')\n",
    "print('All of them can be returned in a single request')"
   ]
  },
  {
   "cell_type": "markdown",
   "id": "cbce1e96",
   "metadata": {},
   "source": [
    "**6. Find 2 new data sets on data.nashville.gov, make API requests to pull the data, and do an analysis that combines the data sets.**"
   ]
  },
  {
   "cell_type": "markdown",
   "id": "6b455c00",
   "metadata": {},
   "source": [
    "## NES - Monthly Energy Consumption by Customer Type and ZIP Code"
   ]
  },
  {
   "cell_type": "markdown",
   "id": "3ffcff97",
   "metadata": {},
   "source": [
    "https://data.nashville.gov/Energy-Usage/NES-Monthly-Energy-Consumption-by-Customer-Type-an/vbx7-mn5i"
   ]
  },
  {
   "cell_type": "code",
   "execution_count": null,
   "id": "f6668bc0",
   "metadata": {},
   "outputs": [],
   "source": [
    "endpoint = 'https://data.nashville.gov/resource/vbx7-mn5i.json'"
   ]
  },
  {
   "cell_type": "code",
   "execution_count": null,
   "id": "416202e0",
   "metadata": {},
   "outputs": [],
   "source": [
    "params = {\n",
    "    '$limit': 20000\n",
    "}"
   ]
  },
  {
   "cell_type": "code",
   "execution_count": null,
   "id": "c65f4ccc",
   "metadata": {},
   "outputs": [],
   "source": [
    "response = requests.get(endpoint, params = params)\n",
    "\n",
    "if response.status_code != 200:\n",
    "    print(response.status_code)\n",
    "    assert response.status_code == 200\n",
    "    \n",
    "res = response.json()"
   ]
  },
  {
   "cell_type": "code",
   "execution_count": null,
   "id": "d26bcea2",
   "metadata": {
    "scrolled": false
   },
   "outputs": [],
   "source": [
    "energy_cons_df = pd.DataFrame(res)\n",
    "energy_cons_df.head()"
   ]
  },
  {
   "cell_type": "code",
   "execution_count": null,
   "id": "fb3f8050",
   "metadata": {},
   "outputs": [],
   "source": [
    "#Keep only rows with year <= 2019. The data is limited/unreliable after that.\n",
    "energy_cons_df = energy_cons_df.loc[energy_cons_df.year.notna()]\n",
    "#energy_cons_df = energy_cons_df.loc[energy_cons_df.year.astype(int) <= 2019]"
   ]
  },
  {
   "cell_type": "code",
   "execution_count": null,
   "id": "62cac4b4",
   "metadata": {},
   "outputs": [],
   "source": [
    "energy_cons_df['monthly_kwh_used'] = energy_cons_df['monthly_kwh_used'].astype(int)\n",
    "energy_cons_df['year'] = energy_cons_df['year'].astype(int)\n",
    "energy_cons_df['month'] = energy_cons_df['month'].astype(int)\n",
    "energy_cons_df.dtypes"
   ]
  },
  {
   "cell_type": "code",
   "execution_count": null,
   "id": "22c3e362",
   "metadata": {},
   "outputs": [],
   "source": [
    "#Add month_year_date column\n",
    "date_columns = energy_cons_df.loc[:,['year','month']]\n",
    "date_columns['day'] = 1\n",
    "energy_cons_df['month_year_date']=pd.to_datetime(date_columns)\n",
    "energy_cons_df"
   ]
  },
  {
   "cell_type": "markdown",
   "id": "15e89cd8",
   "metadata": {},
   "source": [
    "### Annual Graph 1"
   ]
  },
  {
   "cell_type": "code",
   "execution_count": null,
   "id": "77ccd028",
   "metadata": {},
   "outputs": [],
   "source": [
    "#Subset of columns for graph\n",
    "energy_cons_cust_df = energy_cons_df.copy()\n",
    "energy_cons_cust_df = energy_cons_cust_df.loc[:,['year','customer_type','monthly_kwh_used']]"
   ]
  },
  {
   "cell_type": "code",
   "execution_count": null,
   "id": "67981303",
   "metadata": {},
   "outputs": [],
   "source": [
    "energy_cons_cust_df = energy_cons_cust_df.loc[energy_cons_cust_df.year.astype(int) <= 2019]"
   ]
  },
  {
   "cell_type": "code",
   "execution_count": null,
   "id": "665a8434",
   "metadata": {
    "scrolled": true
   },
   "outputs": [],
   "source": [
    "energy_cons_cust_df = energy_cons_cust_df.groupby(['year','customer_type']).agg('sum')\n",
    "energy_cons_cust_df = energy_cons_cust_df.sort_values(by=['year','customer_type'])\n",
    "energy_cons_cust_df = energy_cons_cust_df.reset_index()\n",
    "energy_cons_cust_df.head()"
   ]
  },
  {
   "cell_type": "code",
   "execution_count": null,
   "id": "cd9bbc01",
   "metadata": {},
   "outputs": [],
   "source": [
    "energy_cons_cust_df['annual_gwh_used'] = energy_cons_cust_df['monthly_kwh_used'] * 0.001 * 0.001\n",
    "energy_cons_cust_df.head(2)"
   ]
  },
  {
   "cell_type": "code",
   "execution_count": null,
   "id": "884cd301",
   "metadata": {},
   "outputs": [],
   "source": [
    "hue_order=['COMCOMM > 50 KW',\n",
    "           'RESRESIDENTIAL                SRSRESID. SUPPL.',\n",
    "           'COMCOMM =< 50 KW              COMCOMM 3-PHASE',\n",
    "           'SEASEAS > 50 KW',\n",
    "           'SEASEAS =< 50 KW',\n",
    "           'OLMOLB METERED',\n",
    "           'COMMERCIAL',\n",
    "           'RESIDENTIAL',\n",
    "           'OUTDOOR LIGHTING',\n",
    "           'SEASONAL CUSTOMER']\n",
    "\n",
    "p = sns.lineplot(x='year',\n",
    "             y='annual_gwh_used',\n",
    "             data=energy_cons_cust_df,\n",
    "             hue='customer_type',\n",
    "             hue_order = hue_order,\n",
    "             ci=None)\n",
    "plt.legend(loc='upper right',bbox_to_anchor=(1.85,1))\n",
    "\n",
    "p.set_title('NES: Annual Energy Consumption by Customer Type', fontsize=16)\n",
    "p.set_ylabel('Annual GWh Used', fontsize=14)\n",
    "p.set_xlabel('')\n",
    "#plt.xticks(rotation='horizontal', fontsize =14, ha='center')\n",
    "#plt.yticks(fontsize=14)\n",
    "#plt.grid()\n",
    ";"
   ]
  },
  {
   "cell_type": "markdown",
   "id": "58d87e6e",
   "metadata": {},
   "source": [
    "Data is missing for three months in 2018: March, September, October"
   ]
  },
  {
   "cell_type": "markdown",
   "id": "d7d45c46",
   "metadata": {},
   "source": [
    "### Correct Customer Types"
   ]
  },
  {
   "cell_type": "code",
   "execution_count": null,
   "id": "9e6744d9",
   "metadata": {},
   "outputs": [],
   "source": [
    "cust_type_changes = {'COMCOMM =< 50 KW              COMCOMM 3-PHASE':'Commercial',\n",
    "                     'COMCOMM > 50 KW':'Commercial',\n",
    "                     'OLMOLB METERED':'Metered',\n",
    "                     'RESRESIDENTIAL                SRSRESID. SUPPL.':'Residential',\n",
    "                     'SEASEAS =< 50 KW':'Seasonal Customer',\n",
    "                     'SEASEAS > 50 KW':'Seasonal Customer',\n",
    "                     'COMMERCIAL':'Commercial',\n",
    "                     'OUTDOOR LIGHTING':'Outdoor Lighting',\n",
    "                     'RESIDENTIAL':'Residential',\n",
    "                     'SEASONAL CUSTOMER':'Seasonal Customer'\n",
    "                    }"
   ]
  },
  {
   "cell_type": "code",
   "execution_count": null,
   "id": "7c447662",
   "metadata": {},
   "outputs": [],
   "source": [
    "energy_cons_df.replace(to_replace=cust_type_changes, inplace=True)"
   ]
  },
  {
   "cell_type": "markdown",
   "id": "6fd9e7ac",
   "metadata": {},
   "source": [
    "### Annual Graph 2"
   ]
  },
  {
   "cell_type": "code",
   "execution_count": null,
   "id": "efa670a4",
   "metadata": {},
   "outputs": [],
   "source": [
    "#Subset of columns for graph\n",
    "energy_cons_cust_df2 = energy_cons_df.copy()\n",
    "energy_cons_cust_df2 = energy_cons_cust_df2.loc[:,['year','customer_type','monthly_kwh_used']]"
   ]
  },
  {
   "cell_type": "code",
   "execution_count": null,
   "id": "e81734e4",
   "metadata": {
    "scrolled": false
   },
   "outputs": [],
   "source": [
    "energy_cons_cust_df2 = energy_cons_cust_df2.groupby(['year','customer_type']).agg('sum')\n",
    "energy_cons_cust_df2 = energy_cons_cust_df2.sort_values(by=['year','customer_type'])\n",
    "energy_cons_cust_df2 = energy_cons_cust_df2.reset_index()\n",
    "energy_cons_cust_df2.head()"
   ]
  },
  {
   "cell_type": "code",
   "execution_count": null,
   "id": "42434906",
   "metadata": {},
   "outputs": [],
   "source": [
    "energy_cons_cust_df2 = energy_cons_cust_df2.loc[energy_cons_cust_df2.year.astype(int) <= 2019]"
   ]
  },
  {
   "cell_type": "code",
   "execution_count": null,
   "id": "6afe37b2",
   "metadata": {},
   "outputs": [],
   "source": [
    "energy_cons_cust_df2['annual_gwh_used'] = energy_cons_cust_df2['monthly_kwh_used'] * 0.001 * 0.001\n",
    "energy_cons_cust_df2"
   ]
  },
  {
   "cell_type": "code",
   "execution_count": null,
   "id": "943a640c",
   "metadata": {
    "scrolled": false
   },
   "outputs": [],
   "source": [
    "hue_order=['Commercial',\n",
    "           'Residential',\n",
    "           'Seasonal Customer',\n",
    "           'Metered',\n",
    "           'Outdoor Lighting']\n",
    "fig, ax = plt.subplots(figsize=(10,5))\n",
    "p = sns.lineplot(x='year',\n",
    "                 y='annual_gwh_used',\n",
    "                 data=energy_cons_cust_df2,\n",
    "                 hue='customer_type',\n",
    "                 hue_order = hue_order,\n",
    "                 ax=ax,\n",
    "                 marker='o',\n",
    "                 markersize=4,\n",
    "                 ci=None)\n",
    "plt.legend(loc='upper left',bbox_to_anchor=(1.02,1))\n",
    "plt.text(x = 2018, y=3000, s='2018 has 3 months missing', fontsize = 10,ha='center')\n",
    "p.set_title('NES: Annual Energy Consumption by Customer Type', fontsize=16)\n",
    "p.set_ylabel('Annual GWh Used', fontsize=14)\n",
    "p.set_xlabel('')\n",
    ";"
   ]
  },
  {
   "cell_type": "markdown",
   "id": "40eb0c41",
   "metadata": {},
   "source": [
    "### Decrease in annual energy consumption from 2012 to 2019\n",
    "#### - Commercial: 12% decrease\n",
    "#### - Residential: 27% decrease"
   ]
  },
  {
   "cell_type": "markdown",
   "id": "ccf0d302",
   "metadata": {},
   "source": [
    "### Monthly Energy Consumption"
   ]
  },
  {
   "cell_type": "code",
   "execution_count": null,
   "id": "38c62d87",
   "metadata": {},
   "outputs": [],
   "source": [
    "#years = mdates.YearLocator()  #every year\n",
    "#month = mdates.MonthLocator() #every month\n",
    "#years_fmt = mdates.DateFormatter('%Y-%m')"
   ]
  },
  {
   "cell_type": "code",
   "execution_count": null,
   "id": "fdd7bf8b",
   "metadata": {},
   "outputs": [],
   "source": [
    "#Subset of columns for graph\n",
    "energy_cons_cust_df3 = energy_cons_df.copy()\n",
    "energy_cons_cust_df3 = energy_cons_cust_df3.loc[:,['year','month','month_year_date','customer_type','monthly_kwh_used']]\n",
    "energy_cons_cust_df3"
   ]
  },
  {
   "cell_type": "code",
   "execution_count": null,
   "id": "0c009345",
   "metadata": {},
   "outputs": [],
   "source": [
    "energy_cons_cust_df3 = energy_cons_cust_df3.groupby(['year','month','month_year_date','customer_type']).agg('sum')\n",
    "energy_cons_cust_df3 = energy_cons_cust_df3.sort_values(by=['month_year_date','customer_type'])\n",
    "energy_cons_cust_df3 = energy_cons_cust_df3.reset_index()\n",
    "energy_cons_cust_df3.head()"
   ]
  },
  {
   "cell_type": "code",
   "execution_count": null,
   "id": "08543acc",
   "metadata": {},
   "outputs": [],
   "source": [
    "energy_cons_cust_df3['monthly_gwh_used'] = energy_cons_cust_df3['monthly_kwh_used'] * 0.001 * 0.001\n",
    "energy_cons_cust_df3.head()"
   ]
  },
  {
   "cell_type": "code",
   "execution_count": null,
   "id": "0dc86165",
   "metadata": {},
   "outputs": [],
   "source": [
    "#Remove all customer types except Commercial and Residential\n",
    "energy_cons_cust_df3 = energy_cons_cust_df3.loc[energy_cons_cust_df3.customer_type.isin(['Commercial','Residential'])]"
   ]
  },
  {
   "cell_type": "code",
   "execution_count": null,
   "id": "f325f2b9",
   "metadata": {},
   "outputs": [],
   "source": [
    "#Remove two outlier points\n",
    "index_names = energy_cons_cust_df3.loc[(energy_cons_cust_df3.customer_type == \"Commercial\") \n",
    "                         & (energy_cons_cust_df3.monthly_gwh_used < 300)].index\n",
    "index_names"
   ]
  },
  {
   "cell_type": "code",
   "execution_count": null,
   "id": "f49285ce",
   "metadata": {},
   "outputs": [],
   "source": [
    "energy_cons_cust_df3.drop(index_names, inplace = True)"
   ]
  },
  {
   "cell_type": "code",
   "execution_count": null,
   "id": "976d98cf",
   "metadata": {
    "scrolled": false
   },
   "outputs": [],
   "source": [
    "fig, ax = plt.subplots(figsize=(10,5))\n",
    "p = sns.lineplot(x='month_year_date',\n",
    "                 y='monthly_gwh_used',\n",
    "                 data=energy_cons_cust_df3,\n",
    "                 ax=ax,\n",
    "                 hue='customer_type',\n",
    "                 ci=None,\n",
    "                 marker='o',\n",
    "                 markersize=4)\n",
    "plt.legend(loc='upper right',bbox_to_anchor=(1,1))\n",
    "\n",
    "p.set_title('NES - Monthly Energy Consumption by Customer Type', fontsize=16)\n",
    "p.set_ylabel('Monthly GWh Used', fontsize=14)\n",
    "p.set_xlabel('')\n",
    "p.set_xticks([pd.to_datetime('01/01/2012'), pd.to_datetime('01/01/2013'),\n",
    "              pd.to_datetime('01/01/2014'), pd.to_datetime('01/01/2015'),\n",
    "              pd.to_datetime('01/01/2016'), pd.to_datetime('01/01/2017'),\n",
    "              pd.to_datetime('01/01/2018'), pd.to_datetime('01/01/2019'),\n",
    "              pd.to_datetime('01/01/2020'), pd.to_datetime('01/01/2021'),\n",
    "              pd.to_datetime('01/01/2022')])\n",
    "p.set_xticklabels(['2012','2013','2014','2015','2016','2017','2018','2019','2020','2021','2022'])\n",
    "p.set_ylim(bottom=0,top=600)\n",
    ";"
   ]
  },
  {
   "cell_type": "markdown",
   "id": "7c595dba",
   "metadata": {},
   "source": [
    "## NES - Monthly Energy Consumption Greater than 50 Kilowatts"
   ]
  },
  {
   "cell_type": "code",
   "execution_count": null,
   "id": "ef526be4",
   "metadata": {},
   "outputs": [],
   "source": [
    "endpoint = 'https://data.nashville.gov/resource/ut4c-a9ss.json'"
   ]
  },
  {
   "cell_type": "code",
   "execution_count": null,
   "id": "e4656322",
   "metadata": {},
   "outputs": [],
   "source": [
    "params = {\n",
    "#    'year': 2016,\n",
    "#    'query_text': 'fire'\n",
    "}"
   ]
  },
  {
   "cell_type": "code",
   "execution_count": null,
   "id": "d46b2dbc",
   "metadata": {},
   "outputs": [],
   "source": [
    "response = requests.get(endpoint, params = params)\n",
    "\n",
    "if response.status_code != 200:\n",
    "    print(response.status_code)\n",
    "    assert response.status_code == 200\n",
    "    \n",
    "res50kw = response.json()"
   ]
  },
  {
   "cell_type": "code",
   "execution_count": null,
   "id": "7041443e",
   "metadata": {},
   "outputs": [],
   "source": [
    "e50kw_df = pd.DataFrame(res50kw)\n",
    "print(e50kw_df.shape)\n",
    "e50kw_df.head()"
   ]
  },
  {
   "cell_type": "code",
   "execution_count": null,
   "id": "94aa78d9",
   "metadata": {},
   "outputs": [],
   "source": [
    "e50kw_df.reportyear.max()"
   ]
  },
  {
   "cell_type": "code",
   "execution_count": null,
   "id": "a4e0fd5d",
   "metadata": {},
   "outputs": [],
   "source": [
    "e50kw_df.drop_duplicates(inplace=True)"
   ]
  },
  {
   "cell_type": "code",
   "execution_count": null,
   "id": "743b62eb",
   "metadata": {},
   "outputs": [],
   "source": [
    "#tvacode, kwd, and kwh all have nulls\n",
    "e50kw_df = e50kw_df.loc[e50kw_df.kwh.notna()]"
   ]
  },
  {
   "cell_type": "code",
   "execution_count": null,
   "id": "3ef837fd",
   "metadata": {},
   "outputs": [],
   "source": [
    "e50kw_df['year'] = e50kw_df['reportyear'].astype(int)\n",
    "e50kw_df['month'] = e50kw_df['reportmonth'].astype(int)\n",
    "e50kw_df['nbrofcustomers'] = e50kw_df['nbrofcustomers'].astype(int)\n",
    "e50kw_df['kwh'] = e50kw_df['kwh'].astype(int)\n",
    "e50kw_df.dtypes"
   ]
  },
  {
   "cell_type": "code",
   "execution_count": null,
   "id": "379bb37f",
   "metadata": {},
   "outputs": [],
   "source": [
    "print(e50kw_df.shape)\n",
    "e50kw_df = e50kw_df.loc[e50kw_df.kwh != 0]\n",
    "print(e50kw_df.shape)"
   ]
  },
  {
   "cell_type": "code",
   "execution_count": null,
   "id": "5268068e",
   "metadata": {},
   "outputs": [],
   "source": [
    "index_row = e50kw_df.loc[(e50kw_df.demand == '1001-5000 KW, ANNUAL') & (e50kw_df.kwh < 30000000) & (e50kw_df.year == 2012)].index\n",
    "e50kw_df.drop(index_row, inplace = True)"
   ]
  },
  {
   "cell_type": "code",
   "execution_count": null,
   "id": "57965e38",
   "metadata": {
    "scrolled": false
   },
   "outputs": [],
   "source": [
    "#Add month_year_date column\n",
    "date_columns = e50kw_df.loc[:,['year','month']]\n",
    "date_columns['day'] = 1\n",
    "e50kw_df['month_year_date']=pd.to_datetime(date_columns)\n",
    "e50kw_df"
   ]
  },
  {
   "cell_type": "code",
   "execution_count": null,
   "id": "701bece0",
   "metadata": {},
   "outputs": [],
   "source": [
    "#Subset of columns for graph\n",
    "e50kw_df = e50kw_df.loc[:,['month_year_date','demand','nbrofcustomers','kwh']]"
   ]
  },
  {
   "cell_type": "code",
   "execution_count": null,
   "id": "27313e0a",
   "metadata": {
    "scrolled": true
   },
   "outputs": [],
   "source": [
    "#Group by date and demand type with aggregations for kwh and nbrofcustomers.\n",
    "agg_dict = {'nbrofcustomers':'mean','kwh':'sum'}\n",
    "\n",
    "e50kw_df = e50kw_df.groupby(['month_year_date','demand']).agg(agg_dict)\n",
    "e50kw_df = e50kw_df.sort_values(by=['month_year_date','demand'])\n",
    "e50kw_df = e50kw_df.reset_index()\n",
    "e50kw_df.head()"
   ]
  },
  {
   "cell_type": "code",
   "execution_count": null,
   "id": "02960acf",
   "metadata": {},
   "outputs": [],
   "source": [
    "#Add column with average KWh used per customer\n",
    "e50kw_df['kwh_per_cust'] = e50kw_df['kwh'] / e50kw_df['nbrofcustomers']"
   ]
  },
  {
   "cell_type": "code",
   "execution_count": null,
   "id": "fe5b1337",
   "metadata": {
    "scrolled": true
   },
   "outputs": [],
   "source": [
    "#Add columns with units in GWh rather than KWh\n",
    "e50kw_df['gwh'] = e50kw_df['kwh'] * 0.001 * 0.001\n",
    "e50kw_df['gwh_per_cust'] = e50kw_df['kwh_per_cust'] * 0.001 * 0.001\n",
    "e50kw_df.tail(6)"
   ]
  },
  {
   "cell_type": "code",
   "execution_count": null,
   "id": "1a938abc",
   "metadata": {},
   "outputs": [],
   "source": [
    "hue_order = ['Total',\n",
    "             '51-1000 KW, ANNUAL',\n",
    "             '1001-5000 KW, ANNUAL',\n",
    "             'LIP',\n",
    "             'OVER 50000',\n",
    "             '51-1000 KW, SEASONAL']\n",
    "fig, ax = plt.subplots(figsize=(10,5))\n",
    "p = sns.lineplot(x='month_year_date',\n",
    "                 y='gwh',\n",
    "                 data=e50kw_df,\n",
    "                 ax=ax,\n",
    "                 hue='demand',\n",
    "                 hue_order=hue_order,\n",
    "                 ci=None,\n",
    "                 marker='o',\n",
    "                 markersize=4)\n",
    "plt.legend(loc='upper right',bbox_to_anchor=(0.91,1))\n",
    "\n",
    "p.set_title('NES: Consumption by Commercial Customers Using > 50 KWh Monthly', fontsize=16)\n",
    "p.set_ylabel('Monthly GWh Used', fontsize=14)\n",
    "p.set_xlabel('')\n",
    "p.set_xticks([pd.to_datetime('01/01/2011'),\n",
    "              pd.to_datetime('01/01/2012'), pd.to_datetime('01/01/2013'),\n",
    "              pd.to_datetime('01/01/2014'), pd.to_datetime('01/01/2015'),\n",
    "              pd.to_datetime('01/01/2016'), pd.to_datetime('01/01/2017'),\n",
    "              pd.to_datetime('01/01/2018'), pd.to_datetime('01/01/2019'),\n",
    "              pd.to_datetime('01/01/2020'), pd.to_datetime('01/01/2021'),\n",
    "              pd.to_datetime('01/01/2022')])\n",
    "p.set_xticklabels(['2011','2012','2013','2014','2015','2016','2017','2018','2019','2020','2021','2022'])\n",
    "p.set_ylim(bottom=0,top=500)\n",
    ";"
   ]
  },
  {
   "cell_type": "code",
   "execution_count": null,
   "id": "62b87f4a",
   "metadata": {},
   "outputs": [],
   "source": [
    "#Multiply kwh (and gwh) values times 1000 for records between July 2015 and Jan 2020.\n",
    "#Reason: kwh values appear to be 1000 times smaller for records between July 2015 and Jan 2020, which means they \n",
    "#were probably recorded in MWh rather than KWh. \n",
    "\n",
    "index_rows = e50kw_df.loc[(e50kw_df.month_year_date >= pd.to_datetime('07/01/2015')) \n",
    "                          & (e50kw_df.month_year_date <=  pd.to_datetime('01/01/2020'))].index\n",
    "\n",
    "e50kw_df.loc[e50kw_df.index.isin(index_rows),'kwh'] = e50kw_df.loc[e50kw_df.index.isin(index_rows),'kwh'] * 1000\n",
    "e50kw_df.loc[e50kw_df.index.isin(index_rows),'gwh'] = e50kw_df.loc[e50kw_df.index.isin(index_rows),'gwh'] * 1000\n",
    "e50kw_df.loc[e50kw_df.index.isin(index_rows),'kwh_per_cust'] = e50kw_df.loc[e50kw_df.index.isin(index_rows),'kwh_per_cust'] * 1000\n",
    "e50kw_df.loc[e50kw_df.index.isin(index_rows),'gwh_per_cust'] = e50kw_df.loc[e50kw_df.index.isin(index_rows),'gwh_per_cust'] * 1000"
   ]
  },
  {
   "cell_type": "code",
   "execution_count": null,
   "id": "05fe2603",
   "metadata": {},
   "outputs": [],
   "source": [
    "#Remove outlier rows\n",
    "#index_row_1 = e50kw_df.loc[(e50kw_df.demand == '51-1000 KW, ANNUAL') & (e50kw_df.gwh < 200)].index\n",
    "#e50kw_df.drop(index_row_1, inplace = True)\n",
    "\n",
    "#index_row_2 = e50kw_df.loc[(e50kw_df.demand == '1001-5000 KW, ANNUAL') & (e50kw_df.gwh < 30)].index\n",
    "#e50kw_df.drop(index_row_2, inplace = True)"
   ]
  },
  {
   "cell_type": "code",
   "execution_count": null,
   "id": "07898f9e",
   "metadata": {},
   "outputs": [],
   "source": [
    "hue_order = ['Total',\n",
    "             '51-1000 KW, ANNUAL',\n",
    "             '1001-5000 KW, ANNUAL',\n",
    "             'LIP',\n",
    "             'OVER 50000',\n",
    "             '51-1000 KW, SEASONAL']\n",
    "fig, ax = plt.subplots(figsize=(12,6.5))\n",
    "p = sns.lineplot(x='month_year_date',\n",
    "                 y='gwh',\n",
    "                 data=e50kw_df,\n",
    "                 ax=ax,\n",
    "                 hue='demand',\n",
    "                 hue_order=hue_order,\n",
    "                 ci=None,\n",
    "                 marker='o',\n",
    "                 markersize=4)\n",
    "plt.legend(loc='upper right',bbox_to_anchor=(1,1))\n",
    "\n",
    "p.set_title('NES: Consumption by Commercial Customers Using > 50 KWh Monthly', fontsize=16)\n",
    "p.set_ylabel('Monthly GWh Used', fontsize=14)\n",
    "p.set_xlabel('')\n",
    "p.set_xticks([pd.to_datetime('01/01/2011'),\n",
    "              pd.to_datetime('01/01/2012'), pd.to_datetime('01/01/2013'),\n",
    "              pd.to_datetime('01/01/2014'), pd.to_datetime('01/01/2015'),\n",
    "              pd.to_datetime('01/01/2016'), pd.to_datetime('01/01/2017'),\n",
    "              pd.to_datetime('01/01/2018'), pd.to_datetime('01/01/2019'),\n",
    "              pd.to_datetime('01/01/2020'), pd.to_datetime('01/01/2021'),\n",
    "              pd.to_datetime('01/01/2022')])\n",
    "p.set_xticklabels(['2011','2012','2013','2014','2015','2016','2017','2018','2019','2020','2021','2022'])\n",
    "p.set_ylim(bottom=0,top=500)\n",
    ";"
   ]
  },
  {
   "cell_type": "code",
   "execution_count": null,
   "id": "1735d211",
   "metadata": {},
   "outputs": [],
   "source": [
    "hue_order = ['51-1000 KW, ANNUAL',\n",
    "             '1001-5000 KW, ANNUAL',\n",
    "             'LIP',\n",
    "             'OVER 50000',\n",
    "             '51-1000 KW, SEASONAL']\n",
    "fig, ax = plt.subplots(figsize=(12,6.5))\n",
    "p = sns.lineplot(x='month_year_date',\n",
    "                 y='gwh_per_cust',\n",
    "                 data=e50kw_df,\n",
    "                 ax=ax,\n",
    "                 hue='demand',\n",
    "                 hue_order=hue_order,\n",
    "                 ci=None,\n",
    "                 marker='o',\n",
    "                 markersize=4)\n",
    "plt.legend(loc='upper right',bbox_to_anchor=(1,1))\n",
    "\n",
    "p.set_title('NES: Average Consumption per Commercial Customer Using > 50 KWh Monthly', fontsize=16)\n",
    "p.set_ylabel('Monthly GWh Used per Customer', fontsize=14)\n",
    "p.set_xlabel('')\n",
    "p.set_xticks([pd.to_datetime('01/01/2011'),\n",
    "              pd.to_datetime('01/01/2012'), pd.to_datetime('01/01/2013'),\n",
    "              pd.to_datetime('01/01/2014'), pd.to_datetime('01/01/2015'),\n",
    "              pd.to_datetime('01/01/2016'), pd.to_datetime('01/01/2017'),\n",
    "              pd.to_datetime('01/01/2018'), pd.to_datetime('01/01/2019'),\n",
    "              pd.to_datetime('01/01/2020'), pd.to_datetime('01/01/2021'),\n",
    "              pd.to_datetime('01/01/2022')])\n",
    "p.set_xticklabels(['2011','2012','2013','2014','2015','2016','2017','2018','2019','2020','2021','2022'])\n",
    "#p.set_ylim(bottom=0,top=500)\n",
    ";"
   ]
  },
  {
   "cell_type": "code",
   "execution_count": null,
   "id": "b6cef7e1",
   "metadata": {},
   "outputs": [],
   "source": [
    "e50kw_per_cust_df = e50kw_df.copy()\n",
    "e50kw_per_cust_df = e50kw_per_cust_df.loc[e50kw_per_cust_df.demand != 'Total',['demand','nbrofcustomers','gwh_per_cust','gwh']]"
   ]
  },
  {
   "cell_type": "code",
   "execution_count": null,
   "id": "9513883e",
   "metadata": {},
   "outputs": [],
   "source": [
    "#Group by date and demand type to get average number of customers, average kwh per customer, and average gwh per customer.\n",
    "e50kw_per_cust_df = e50kw_per_cust_df.groupby(['demand']).agg('mean')\n",
    "e50kw_per_cust_df = e50kw_per_cust_df.sort_values(by=['gwh'],ascending=False)\n",
    "e50kw_per_cust_df = e50kw_per_cust_df.reset_index()\n",
    "e50kw_per_cust_df"
   ]
  },
  {
   "cell_type": "code",
   "execution_count": null,
   "id": "3157ef17",
   "metadata": {},
   "outputs": [],
   "source": [
    "hue_order = ['51-1000 KW, ANNUAL',\n",
    "             '1001-5000 KW, ANNUAL',\n",
    "             'LIP',\n",
    "             'OVER 50000',\n",
    "             '51-1000 KW, SEASONAL']\n",
    "fig, ax = plt.subplots(figsize=(5,5))\n",
    "p = sns.scatterplot(x='nbrofcustomers',\n",
    "                 y='gwh_per_cust',\n",
    "                 data=e50kw_per_cust_df,\n",
    "                 ax=ax,\n",
    "                 hue='demand',\n",
    "                 hue_order=hue_order,\n",
    "                 ci=None)\n",
    "plt.legend(loc='upper right',bbox_to_anchor=(1,1))\n",
    "\n",
    "p.set_title('NES: Average Consumption per Commercial Customer Using > 50 KWh Monthly', fontsize=12)\n",
    "p.set_ylabel('Monthly GWh Used per Customer', fontsize=10)\n",
    "p.set_xlabel('Number of Customers', fontsize=10)\n",
    "#p.set_xticks([pd.to_datetime('01/01/2011'),\n",
    "#              pd.to_datetime('01/01/2012'), pd.to_datetime('01/01/2013'),\n",
    "#              pd.to_datetime('01/01/2014'), pd.to_datetime('01/01/2015'),\n",
    "#              pd.to_datetime('01/01/2016'), pd.to_datetime('01/01/2017'),\n",
    "#              pd.to_datetime('01/01/2018'), pd.to_datetime('01/01/2019'),\n",
    "#              pd.to_datetime('01/01/2020'), pd.to_datetime('01/01/2021'),\n",
    "#              pd.to_datetime('01/01/2022')])\n",
    "#p.set_xticklabels(['2011','2012','2013','2014','2015','2016','2017','2018','2019','2020','2021','2022'])\n",
    "#p.set_ylim(bottom=0,top=500)\n",
    ";"
   ]
  },
  {
   "cell_type": "markdown",
   "id": "562131a2",
   "metadata": {},
   "source": [
    "#### Bonus"
   ]
  },
  {
   "cell_type": "markdown",
   "id": "a766972e",
   "metadata": {},
   "source": [
    "7. Socrata is used by many cities, states, and federal organizations. Find additional datasets through [Socrata's Open Data Network](http://www.opendatanetwork.com/) and do an analysis comparing them to Nashville or each other."
   ]
  },
  {
   "cell_type": "markdown",
   "id": "82160645",
   "metadata": {},
   "source": [
    "#### Show and Tell\n",
    "At the end of the project you will present some general insights, visualizations, or other finding from any part of the project. This will be informal (showing your Jupyter notebook is fine, no need to make a powerpoint) and should be no more than 5 min. If you had challenges making your visualizations, then it is fine to discuss your experience working with the API and what you were intending to show."
   ]
  }
 ],
 "metadata": {
  "kernelspec": {
   "display_name": "Python 3 (ipykernel)",
   "language": "python",
   "name": "python3"
  },
  "language_info": {
   "codemirror_mode": {
    "name": "ipython",
    "version": 3
   },
   "file_extension": ".py",
   "mimetype": "text/x-python",
   "name": "python",
   "nbconvert_exporter": "python",
   "pygments_lexer": "ipython3",
   "version": "3.9.13"
  }
 },
 "nbformat": 4,
 "nbformat_minor": 5
}
